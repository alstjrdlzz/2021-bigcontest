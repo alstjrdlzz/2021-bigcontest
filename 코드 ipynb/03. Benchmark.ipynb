{
 "cells": [
  {
   "cell_type": "code",
   "execution_count": 1,
   "metadata": {},
   "outputs": [],
   "source": [
    "import pandas as pd\n",
    "import numpy as np\n",
    "import matplotlib.pyplot as plt\n",
    "import os\n",
    "from sklearn.metrics import accuracy_score"
   ]
  },
  {
   "cell_type": "code",
   "execution_count": 2,
   "metadata": {},
   "outputs": [],
   "source": [
    "data_path = os.getcwd()+'/data'"
   ]
  },
  {
   "cell_type": "code",
   "execution_count": 3,
   "metadata": {},
   "outputs": [],
   "source": [
    "# Benchmark\n",
    "# 전 시즌 SLG를 다음 시즌 SLG에 대한 예측값으로 사용\n",
    "# train 2018~2020 / test 2021 전반기"
   ]
  },
  {
   "cell_type": "code",
   "execution_count": 4,
   "metadata": {},
   "outputs": [],
   "source": [
    "tr_21_slg_d = pd.read_csv(data_path+'/tr_21_slg_d')"
   ]
  },
  {
   "cell_type": "code",
   "execution_count": 5,
   "metadata": {},
   "outputs": [],
   "source": [
    "dt = tr_21_slg_d\n",
    "train = dt[(dt['GYEAR']!=2021)]\n",
    "test = dt[(dt['GYEAR']==2021)]"
   ]
  },
  {
   "cell_type": "code",
   "execution_count": 6,
   "metadata": {},
   "outputs": [],
   "source": [
    "trainY = train['SLG']\n",
    "pred_trainY = train['lag_SLG_1']\n",
    "testY = test['SLG']\n",
    "pred_testY = test['lag_SLG_1']"
   ]
  },
  {
   "cell_type": "code",
   "execution_count": 7,
   "metadata": {},
   "outputs": [],
   "source": [
    "trainY = train['SLG']\n",
    "pred_trainY = train['lag_SLG_1']\n",
    "testY = test['SLG']\n",
    "pred_testY = test['lag_SLG_1']"
   ]
  },
  {
   "cell_type": "code",
   "execution_count": 8,
   "metadata": {},
   "outputs": [],
   "source": [
    "trp= pd.DataFrame({'trainY':trainY,'pred_trainY':pred_trainY})"
   ]
  },
  {
   "cell_type": "code",
   "execution_count": 9,
   "metadata": {},
   "outputs": [
    {
     "data": {
      "text/html": [
       "<div>\n",
       "<style scoped>\n",
       "    .dataframe tbody tr th:only-of-type {\n",
       "        vertical-align: middle;\n",
       "    }\n",
       "\n",
       "    .dataframe tbody tr th {\n",
       "        vertical-align: top;\n",
       "    }\n",
       "\n",
       "    .dataframe thead th {\n",
       "        text-align: right;\n",
       "    }\n",
       "</style>\n",
       "<table border=\"1\" class=\"dataframe\">\n",
       "  <thead>\n",
       "    <tr style=\"text-align: right;\">\n",
       "      <th></th>\n",
       "      <th>trainY</th>\n",
       "      <th>pred_trainY</th>\n",
       "    </tr>\n",
       "  </thead>\n",
       "  <tbody>\n",
       "    <tr>\n",
       "      <th>0</th>\n",
       "      <td>0.592</td>\n",
       "      <td>0.592</td>\n",
       "    </tr>\n",
       "    <tr>\n",
       "      <th>2</th>\n",
       "      <td>0.336</td>\n",
       "      <td>0.336</td>\n",
       "    </tr>\n",
       "    <tr>\n",
       "      <th>3</th>\n",
       "      <td>0.272</td>\n",
       "      <td>0.272</td>\n",
       "    </tr>\n",
       "    <tr>\n",
       "      <th>5</th>\n",
       "      <td>0.477</td>\n",
       "      <td>0.477</td>\n",
       "    </tr>\n",
       "    <tr>\n",
       "      <th>6</th>\n",
       "      <td>0.367</td>\n",
       "      <td>0.367</td>\n",
       "    </tr>\n",
       "    <tr>\n",
       "      <th>...</th>\n",
       "      <td>...</td>\n",
       "      <td>...</td>\n",
       "    </tr>\n",
       "    <tr>\n",
       "      <th>406</th>\n",
       "      <td>0.315</td>\n",
       "      <td>0.433</td>\n",
       "    </tr>\n",
       "    <tr>\n",
       "      <th>407</th>\n",
       "      <td>0.363</td>\n",
       "      <td>0.315</td>\n",
       "    </tr>\n",
       "    <tr>\n",
       "      <th>409</th>\n",
       "      <td>0.412</td>\n",
       "      <td>0.563</td>\n",
       "    </tr>\n",
       "    <tr>\n",
       "      <th>410</th>\n",
       "      <td>0.413</td>\n",
       "      <td>0.412</td>\n",
       "    </tr>\n",
       "    <tr>\n",
       "      <th>412</th>\n",
       "      <td>0.356</td>\n",
       "      <td>0.459</td>\n",
       "    </tr>\n",
       "  </tbody>\n",
       "</table>\n",
       "<p>295 rows × 2 columns</p>\n",
       "</div>"
      ],
      "text/plain": [
       "     trainY  pred_trainY\n",
       "0     0.592        0.592\n",
       "2     0.336        0.336\n",
       "3     0.272        0.272\n",
       "5     0.477        0.477\n",
       "6     0.367        0.367\n",
       "..      ...          ...\n",
       "406   0.315        0.433\n",
       "407   0.363        0.315\n",
       "409   0.412        0.563\n",
       "410   0.413        0.412\n",
       "412   0.356        0.459\n",
       "\n",
       "[295 rows x 2 columns]"
      ]
     },
     "execution_count": 9,
     "metadata": {},
     "output_type": "execute_result"
    }
   ],
   "source": [
    "trp"
   ]
  },
  {
   "cell_type": "code",
   "execution_count": 10,
   "metadata": {},
   "outputs": [
    {
     "name": "stdout",
     "output_type": "stream",
     "text": [
      "0.005661383050847458 0.07524216272042862 0.05172881355932203 14.192316459578523\n"
     ]
    }
   ],
   "source": [
    "x=trainY-pred_trainY\n",
    "mse = (np.dot(x.T,x))/len(pred_trainY)\n",
    "rmse = np.sqrt(mse)\n",
    "mae = np.sum(abs(x))/len(pred_trainY)\n",
    "mape = np.sum(abs(x/trainY))*100/len(pred_trainY)\n",
    "print(mse,rmse,mae,mape)"
   ]
  },
  {
   "cell_type": "code",
   "execution_count": 11,
   "metadata": {},
   "outputs": [
    {
     "name": "stdout",
     "output_type": "stream",
     "text": [
      "0.004437330508474576 0.06661329077950268 0.04765254237288135 12.865165718174786\n"
     ]
    }
   ],
   "source": [
    "x=testY-pred_testY\n",
    "mse = (np.dot(x.T,x))/len(pred_testY)\n",
    "rmse = np.sqrt(mse)\n",
    "mae = np.sum(abs(x))/len(pred_testY)\n",
    "mape = np.sum(abs(x/testY))*100/len(pred_testY)\n",
    "print(mse,rmse,mae,mape)"
   ]
  },
  {
   "cell_type": "code",
   "execution_count": 12,
   "metadata": {},
   "outputs": [],
   "source": [
    "# Benchmark\n",
    "# 전 시즌 OBP를 다음 시즌 OBP에 대한 예측값으로 사용\n",
    "# train 2018~2020 / test 2021 전반기"
   ]
  },
  {
   "cell_type": "code",
   "execution_count": 13,
   "metadata": {},
   "outputs": [],
   "source": [
    "tr_21_obp_d = pd.read_csv(data_path+'/tr_21_obp_d')"
   ]
  },
  {
   "cell_type": "code",
   "execution_count": 14,
   "metadata": {},
   "outputs": [],
   "source": [
    "dt = tr_21_obp_d\n",
    "train = dt[dt['GYEAR']!=2021]\n",
    "test = dt[dt['GYEAR']==2021]"
   ]
  },
  {
   "cell_type": "code",
   "execution_count": 15,
   "metadata": {},
   "outputs": [],
   "source": [
    "trainY = train['OBP']\n",
    "pred_trainY = train['lag_OBP_1']\n",
    "testY = test['OBP']\n",
    "pred_testY = test['lag_OBP_1']"
   ]
  },
  {
   "cell_type": "code",
   "execution_count": 16,
   "metadata": {},
   "outputs": [],
   "source": [
    "trp= pd.DataFrame({'trainY':trainY,'pred_trainY':pred_trainY})"
   ]
  },
  {
   "cell_type": "code",
   "execution_count": 17,
   "metadata": {},
   "outputs": [
    {
     "data": {
      "text/html": [
       "<div>\n",
       "<style scoped>\n",
       "    .dataframe tbody tr th:only-of-type {\n",
       "        vertical-align: middle;\n",
       "    }\n",
       "\n",
       "    .dataframe tbody tr th {\n",
       "        vertical-align: top;\n",
       "    }\n",
       "\n",
       "    .dataframe thead th {\n",
       "        text-align: right;\n",
       "    }\n",
       "</style>\n",
       "<table border=\"1\" class=\"dataframe\">\n",
       "  <thead>\n",
       "    <tr style=\"text-align: right;\">\n",
       "      <th></th>\n",
       "      <th>trainY</th>\n",
       "      <th>pred_trainY</th>\n",
       "    </tr>\n",
       "  </thead>\n",
       "  <tbody>\n",
       "    <tr>\n",
       "      <th>0</th>\n",
       "      <td>0.362348</td>\n",
       "      <td>0.362348</td>\n",
       "    </tr>\n",
       "    <tr>\n",
       "      <th>2</th>\n",
       "      <td>0.317343</td>\n",
       "      <td>0.317343</td>\n",
       "    </tr>\n",
       "    <tr>\n",
       "      <th>3</th>\n",
       "      <td>0.301418</td>\n",
       "      <td>0.301418</td>\n",
       "    </tr>\n",
       "    <tr>\n",
       "      <th>5</th>\n",
       "      <td>0.411043</td>\n",
       "      <td>0.411043</td>\n",
       "    </tr>\n",
       "    <tr>\n",
       "      <th>6</th>\n",
       "      <td>0.271889</td>\n",
       "      <td>0.271889</td>\n",
       "    </tr>\n",
       "    <tr>\n",
       "      <th>...</th>\n",
       "      <td>...</td>\n",
       "      <td>...</td>\n",
       "    </tr>\n",
       "    <tr>\n",
       "      <th>406</th>\n",
       "      <td>0.316923</td>\n",
       "      <td>0.406091</td>\n",
       "    </tr>\n",
       "    <tr>\n",
       "      <th>407</th>\n",
       "      <td>0.363636</td>\n",
       "      <td>0.316923</td>\n",
       "    </tr>\n",
       "    <tr>\n",
       "      <th>409</th>\n",
       "      <td>0.379902</td>\n",
       "      <td>0.391621</td>\n",
       "    </tr>\n",
       "    <tr>\n",
       "      <th>410</th>\n",
       "      <td>0.350877</td>\n",
       "      <td>0.379902</td>\n",
       "    </tr>\n",
       "    <tr>\n",
       "      <th>412</th>\n",
       "      <td>0.301724</td>\n",
       "      <td>0.363636</td>\n",
       "    </tr>\n",
       "  </tbody>\n",
       "</table>\n",
       "<p>295 rows × 2 columns</p>\n",
       "</div>"
      ],
      "text/plain": [
       "       trainY  pred_trainY\n",
       "0    0.362348     0.362348\n",
       "2    0.317343     0.317343\n",
       "3    0.301418     0.301418\n",
       "5    0.411043     0.411043\n",
       "6    0.271889     0.271889\n",
       "..        ...          ...\n",
       "406  0.316923     0.406091\n",
       "407  0.363636     0.316923\n",
       "409  0.379902     0.391621\n",
       "410  0.350877     0.379902\n",
       "412  0.301724     0.363636\n",
       "\n",
       "[295 rows x 2 columns]"
      ]
     },
     "execution_count": 17,
     "metadata": {},
     "output_type": "execute_result"
    }
   ],
   "source": [
    "trp"
   ]
  },
  {
   "cell_type": "code",
   "execution_count": 18,
   "metadata": {},
   "outputs": [
    {
     "name": "stdout",
     "output_type": "stream",
     "text": [
      "0.0013429898250816748 0.03664682557987355 0.024567115621710347 7.538717135190095\n"
     ]
    }
   ],
   "source": [
    "x=trainY-pred_trainY\n",
    "mse = (np.dot(x.T,x))/len(pred_trainY)\n",
    "rmse = np.sqrt(mse)\n",
    "mae = np.sum(abs(x))/len(pred_trainY)\n",
    "mape = np.sum(abs(x/trainY))*100/len(pred_trainY)\n",
    "print(mse,rmse,mae,mape)"
   ]
  },
  {
   "cell_type": "code",
   "execution_count": 19,
   "metadata": {},
   "outputs": [
    {
     "name": "stdout",
     "output_type": "stream",
     "text": [
      "0.0017865134752398032 0.04226716781663758 0.030798857278346643 8.851256477783064\n"
     ]
    }
   ],
   "source": [
    "x=testY-pred_testY\n",
    "mse = (np.dot(x.T,x))/len(pred_testY)\n",
    "rmse = np.sqrt(mse)\n",
    "mae = np.sum(abs(x))/len(pred_testY)\n",
    "mape = np.sum(abs(x/testY))*100/len(pred_testY)\n",
    "print(mse,rmse,mae,mape)"
   ]
  }
 ],
 "metadata": {
  "kernelspec": {
   "display_name": "Python 3",
   "language": "python",
   "name": "python3"
  },
  "language_info": {
   "codemirror_mode": {
    "name": "ipython",
    "version": 3
   },
   "file_extension": ".py",
   "mimetype": "text/x-python",
   "name": "python",
   "nbconvert_exporter": "python",
   "pygments_lexer": "ipython3",
   "version": "3.8.8"
  }
 },
 "nbformat": 4,
 "nbformat_minor": 2
}
