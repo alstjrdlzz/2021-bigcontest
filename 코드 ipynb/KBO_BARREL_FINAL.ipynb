{
 "cells": [
  {
   "cell_type": "markdown",
   "metadata": {},
   "source": [
    "## Import"
   ]
  },
  {
   "cell_type": "code",
   "execution_count": 1,
   "metadata": {},
   "outputs": [],
   "source": [
    "import pandas as pd\n",
    "import matplotlib.pyplot  as plt\n",
    "import seaborn as sns\n",
    "import scipy.stats\n",
    "import os"
   ]
  },
  {
   "cell_type": "markdown",
   "metadata": {},
   "source": [
    "## 데이터 불러오기 & 합치기"
   ]
  },
  {
   "cell_type": "code",
   "execution_count": 2,
   "metadata": {},
   "outputs": [],
   "source": [
    "path = os.getcwd()+'/2021 빅콘테스트_데이터분석분야_챔피언리그_스포츠테크_데이터_210803'"
   ]
  },
  {
   "cell_type": "code",
   "execution_count": 3,
   "metadata": {},
   "outputs": [],
   "source": [
    "taja_2018 = pd.read_csv(path+'/01_제공데이터/2021 빅콘테스트_데이터분석분야_챔피언리그_스포츠테크_타자 기본_2018.csv',encoding = 'cp949' )\n",
    "taja_2019 = pd.read_csv(path+'/01_제공데이터/2021 빅콘테스트_데이터분석분야_챔피언리그_스포츠테크_타자 기본_2019.csv',encoding = 'cp949' )\n",
    "taja_2020 = pd.read_csv(path+'/01_제공데이터/2021 빅콘테스트_데이터분석분야_챔피언리그_스포츠테크_타자 기본_2020.csv',encoding = 'cp949' )\n",
    "taja_2021 = pd.read_csv(path+'/01_제공데이터/2021 빅콘테스트_데이터분석분야_챔피언리그_스포츠테크_타자 기본_2021.csv',encoding = 'cp949' )"
   ]
  },
  {
   "cell_type": "code",
   "execution_count": 4,
   "metadata": {},
   "outputs": [],
   "source": [
    "seonsu_2018 = pd.read_csv(path+'/01_제공데이터/2021 빅콘테스트_데이터분석분야_챔피언리그_스포츠테크_선수_2018.csv',encoding = 'cp949' )\n",
    "seonsu_2019 = pd.read_csv(path+'/01_제공데이터/2021 빅콘테스트_데이터분석분야_챔피언리그_스포츠테크_선수_2019.csv',encoding = 'cp949' )\n",
    "seonsu_2020 = pd.read_csv(path+'/01_제공데이터/2021 빅콘테스트_데이터분석분야_챔피언리그_스포츠테크_선수_2020.csv',encoding = 'cp949' )\n",
    "seonsu_2021 = pd.read_csv(path+'/01_제공데이터/2021 빅콘테스트_데이터분석분야_챔피언리그_스포츠테크_선수_2021.csv',encoding = 'cp949' )"
   ]
  },
  {
   "cell_type": "code",
   "execution_count": 5,
   "metadata": {},
   "outputs": [],
   "source": [
    "hts_2018 = pd.read_csv(path+'/01_제공데이터/2021 빅콘테스트_데이터분석분야_챔피언리그_스포츠테크_HTS_2018.csv',encoding = 'cp949' )\n",
    "hts_2019 = pd.read_csv(path+'/01_제공데이터/2021 빅콘테스트_데이터분석분야_챔피언리그_스포츠테크_HTS_2019.csv',encoding = 'cp949' )\n",
    "hts_2020 = pd.read_csv(path+'/01_제공데이터/2021 빅콘테스트_데이터분석분야_챔피언리그_스포츠테크_HTS_2020.csv',encoding = 'cp949' )\n",
    "hts_2021 = pd.read_csv(path+'/01_제공데이터/2021 빅콘테스트_데이터분석분야_챔피언리그_스포츠테크_HTS_2021.csv',encoding = 'cp949' )"
   ]
  },
  {
   "cell_type": "code",
   "execution_count": 6,
   "metadata": {},
   "outputs": [],
   "source": [
    "taja_seonsu_2018 = pd.merge(taja_2018, seonsu_2018, left_on=['PCODE','GYEAR'], right_on=['PCODE','GYEAR'], how='left')\n",
    "taja_seonsu_2019 = pd.merge(taja_2019, seonsu_2019, left_on=['PCODE','GYEAR'], right_on=['PCODE','GYEAR'], how='left')\n",
    "taja_seonsu_2020 = pd.merge(taja_2020, seonsu_2020, left_on=['PCODE','GYEAR'], right_on=['PCODE','GYEAR'], how='left')\n",
    "taja_seonsu_2021 = pd.merge(taja_2021, seonsu_2021, left_on=['PCODE','GYEAR'], right_on=['PCODE','GYEAR'], how='left')"
   ]
  },
  {
   "cell_type": "code",
   "execution_count": 7,
   "metadata": {},
   "outputs": [],
   "source": [
    "taja_seonsu_hts_2018 = pd.merge(hts_2018, taja_seonsu_2018, left_on=['PCODE','GYEAR','T_ID'], right_on=['PCODE','GYEAR','T_ID'], how='left')\n",
    "taja_seonsu_hts_2019 = pd.merge(hts_2019, taja_seonsu_2019, left_on=['PCODE','GYEAR','T_ID'], right_on=['PCODE','GYEAR','T_ID'], how='left')\n",
    "taja_seonsu_hts_2020 = pd.merge(hts_2020, taja_seonsu_2020, left_on=['PCODE','GYEAR','T_ID'], right_on=['PCODE','GYEAR','T_ID'], how='left')\n",
    "taja_seonsu_hts_2021 = pd.merge(hts_2021, taja_seonsu_2021, left_on=['PCODE','GYEAR','T_ID'], right_on=['PCODE','GYEAR','T_ID'], how='left')"
   ]
  },
  {
   "cell_type": "code",
   "execution_count": 8,
   "metadata": {},
   "outputs": [],
   "source": [
    "taja_seonsu_hts = pd.concat([taja_seonsu_hts_2018, taja_seonsu_hts_2019, taja_seonsu_hts_2020, taja_seonsu_hts_2021])"
   ]
  },
  {
   "cell_type": "markdown",
   "metadata": {},
   "source": [
    "## 타구별 고유값 생성"
   ]
  },
  {
   "cell_type": "code",
   "execution_count": 9,
   "metadata": {},
   "outputs": [],
   "source": [
    "taja_seonsu_hts['PIT_KEY'] = taja_seonsu_hts['G_ID'] + taja_seonsu_hts['PIT_ID']"
   ]
  },
  {
   "cell_type": "markdown",
   "metadata": {},
   "source": [
    "## 출루율 생성"
   ]
  },
  {
   "cell_type": "code",
   "execution_count": 10,
   "metadata": {},
   "outputs": [],
   "source": [
    "taja_seonsu_hts['OBP'] = (taja_seonsu_hts['HIT'] + taja_seonsu_hts['BB'] + taja_seonsu_hts['HP']) / (taja_seonsu_hts['AB'] + taja_seonsu_hts['BB'] + taja_seonsu_hts['HP'] + taja_seonsu_hts['SF'])"
   ]
  },
  {
   "cell_type": "markdown",
   "metadata": {},
   "source": [
    "## 최소 타석 미충족 타자 제거"
   ]
  },
  {
   "cell_type": "code",
   "execution_count": 11,
   "metadata": {},
   "outputs": [],
   "source": [
    "taja_seonsu_hts = taja_seonsu_hts[taja_seonsu_hts['PA']>=100]\n",
    "taja_seonsu_hts = taja_seonsu_hts.reset_index(drop=True)"
   ]
  },
  {
   "cell_type": "markdown",
   "metadata": {},
   "source": [
    "## 같은 종류의 타구끼리 합치기"
   ]
  },
  {
   "cell_type": "code",
   "execution_count": 12,
   "metadata": {},
   "outputs": [
    {
     "data": {
      "text/plain": [
       "['플라이',\n",
       " '1루타',\n",
       " '번트안타',\n",
       " '땅볼아웃',\n",
       " '2루타',\n",
       " '파울플라이',\n",
       " '3루타',\n",
       " '직선타',\n",
       " '희생번트',\n",
       " '홈런',\n",
       " '내야안타(1루타)',\n",
       " '희생플라이',\n",
       " '병살타',\n",
       " '인필드플라이',\n",
       " '번트아웃',\n",
       " '야수선택',\n",
       " '삼중살타']"
      ]
     },
     "execution_count": 12,
     "metadata": {},
     "output_type": "execute_result"
    }
   ],
   "source": [
    "# 합치기 전의 타구 종류\n",
    "list(taja_seonsu_hts['HIT_RESULT'].unique())"
   ]
  },
  {
   "cell_type": "code",
   "execution_count": 13,
   "metadata": {},
   "outputs": [],
   "source": [
    "def HIT_RESULT_CHANGE(df):\n",
    "    \n",
    "    bound = ['땅볼아웃', '내야안타(1루타)', '번트아웃', '번트안타', '병살타', '삼중살타', '야수선택', '희생번트']\n",
    "    fly = ['파울플라이', '희생플라이', '인필드플라이', '플라이']\n",
    "    drive = ['직선타']\n",
    "    one = ['1루타']\n",
    "    two = ['2루타']\n",
    "    three = ['3루타']\n",
    "    homerun = ['홈런']\n",
    "        \n",
    "    for i in range(len(df)):\n",
    "        \n",
    "        if df['HIT_RESULT'].loc[i] in bound:\n",
    "            df['HIT_RESULT'].loc[i] = 'bound'\n",
    "        elif df['HIT_RESULT'].loc[i] in fly:\n",
    "            df['HIT_RESULT'].loc[i] = 'fly'\n",
    "        elif df['HIT_RESULT'].loc[i] in drive:\n",
    "            df['HIT_RESULT'].loc[i] = 'drive'\n",
    "        elif df['HIT_RESULT'].loc[i] in one:\n",
    "            df['HIT_RESULT'].loc[i] = 'one'\n",
    "        elif df['HIT_RESULT'].loc[i] in two:\n",
    "            df['HIT_RESULT'].loc[i] = 'two'\n",
    "        elif df['HIT_RESULT'].loc[i] in three:\n",
    "            df['HIT_RESULT'].loc[i] = 'three'\n",
    "        elif df['HIT_RESULT'].loc[i] in homerun:\n",
    "            df['HIT_RESULT'].loc[i] = 'homerun'"
   ]
  },
  {
   "cell_type": "code",
   "execution_count": 14,
   "metadata": {},
   "outputs": [
    {
     "name": "stderr",
     "output_type": "stream",
     "text": [
      "C:\\Users\\Seonggon Kim\\anaconda3\\lib\\site-packages\\pandas\\core\\indexing.py:1637: SettingWithCopyWarning: \n",
      "A value is trying to be set on a copy of a slice from a DataFrame\n",
      "\n",
      "See the caveats in the documentation: https://pandas.pydata.org/pandas-docs/stable/user_guide/indexing.html#returning-a-view-versus-a-copy\n",
      "  self._setitem_single_block(indexer, value, name)\n"
     ]
    }
   ],
   "source": [
    "HIT_RESULT_CHANGE(taja_seonsu_hts)"
   ]
  },
  {
   "cell_type": "code",
   "execution_count": 15,
   "metadata": {},
   "outputs": [
    {
     "data": {
      "text/plain": [
       "['fly', 'one', 'bound', 'two', 'three', 'drive', 'homerun']"
      ]
     },
     "execution_count": 15,
     "metadata": {},
     "output_type": "execute_result"
    }
   ],
   "source": [
    "# 합친 후의 타구 종류\n",
    "list(taja_seonsu_hts['HIT_RESULT'].unique())"
   ]
  },
  {
   "cell_type": "markdown",
   "metadata": {},
   "source": [
    "## 구장 변수 생성"
   ]
  },
  {
   "cell_type": "markdown",
   "metadata": {},
   "source": [
    "##  \n",
    "## =================================================================\n",
    "## 기존의 KBO 배럴 기준\n",
    "## ================================================================="
   ]
  },
  {
   "cell_type": "markdown",
   "metadata": {},
   "source": [
    "## 기존의 KBO 배럴 타구 생성"
   ]
  },
  {
   "cell_type": "code",
   "execution_count": 16,
   "metadata": {},
   "outputs": [],
   "source": [
    "# 155km/h 이상 22.5도 이상 35도 이하 / 160km/h 이상 20도 이상 37.5도 이하 / 165km/h 이상 17.5도 이상 40도 이하"
   ]
  },
  {
   "cell_type": "code",
   "execution_count": 17,
   "metadata": {},
   "outputs": [],
   "source": [
    "def BARREL_KBO(df):\n",
    "    df['BARREL_KBO'] = 0   \n",
    "        \n",
    "    for i in range(len(df)):\n",
    "        if ((df['HIT_VEL'].loc[i]>=155) & (df['HIT_VEL'].loc[i]<=160) & (df['HIT_ANG_VER'].loc[i]<=35) & (df['HIT_ANG_VER'].loc[i]>=22.5)):\n",
    "            df['BARREL_KBO'].loc[i]=1\n",
    "        elif ((df['HIT_VEL'].loc[i]>=160) & (df['HIT_VEL'].loc[i]<=165) & (df['HIT_ANG_VER'].loc[i]<=37.5) & (df['HIT_ANG_VER'].loc[i]>=20)):\n",
    "            df['BARREL_KBO'].loc[i]=1\n",
    "        elif ((df['HIT_VEL'].loc[i]>=165) & (df['HIT_ANG_VER'].loc[i]<=40) & (df['HIT_ANG_VER'].loc[i]>=17.5)):\n",
    "            df['BARREL_KBO'].loc[i]=1\n",
    "        else:\n",
    "            df['BARREL_KBO'].loc[i]=0"
   ]
  },
  {
   "cell_type": "code",
   "execution_count": 18,
   "metadata": {},
   "outputs": [],
   "source": [
    "BARREL_KBO(taja_seonsu_hts)"
   ]
  },
  {
   "cell_type": "code",
   "execution_count": 19,
   "metadata": {},
   "outputs": [],
   "source": [
    "BARREL_KBO_CNT = pd.DataFrame(taja_seonsu_hts[taja_seonsu_hts['BARREL_KBO']==1].groupby(['PCODE', 'GYEAR'])['BARREL_KBO'].count())\n",
    "BARREL_KBO_CNT = BARREL_KBO_CNT.reset_index()\n",
    "BARREL_KBO_CNT.columns = ['PCODE', 'GYEAR', 'BARREL_KBO_CNT']"
   ]
  },
  {
   "cell_type": "code",
   "execution_count": 20,
   "metadata": {},
   "outputs": [],
   "source": [
    "taja_seonsu_hts = pd.merge(taja_seonsu_hts, BARREL_KBO_CNT, left_on=['PCODE', 'GYEAR'], right_on=['PCODE', 'GYEAR'], how='left')\n",
    "taja_seonsu_hts.fillna(0, inplace = True)"
   ]
  },
  {
   "cell_type": "markdown",
   "metadata": {},
   "source": [
    "## 기존의 KBO 배럴 타구의 개수"
   ]
  },
  {
   "cell_type": "code",
   "execution_count": 21,
   "metadata": {},
   "outputs": [
    {
     "data": {
      "text/plain": [
       "GYEAR\n",
       "2018    946\n",
       "2019    621\n",
       "2020    723\n",
       "2021    312\n",
       "dtype: int64"
      ]
     },
     "execution_count": 21,
     "metadata": {},
     "output_type": "execute_result"
    }
   ],
   "source": [
    "taja_seonsu_hts[taja_seonsu_hts['BARREL_KBO']==1].groupby('GYEAR').size()"
   ]
  },
  {
   "cell_type": "code",
   "execution_count": 22,
   "metadata": {},
   "outputs": [
    {
     "data": {
      "text/plain": [
       "BARREL_KBO\n",
       "0    2535\n",
       "1    1993\n",
       "dtype: int64"
      ]
     },
     "execution_count": 22,
     "metadata": {},
     "output_type": "execute_result"
    }
   ],
   "source": [
    "# 배럴이 아닌 타구에서 생산된 홈런이 배럴인 타구에서 생산된 홈런보다 더 많음\n",
    "taja_seonsu_hts[taja_seonsu_hts['HIT_RESULT']=='homerun'].groupby('BARREL_KBO').size()"
   ]
  },
  {
   "cell_type": "markdown",
   "metadata": {},
   "source": [
    "## 각 타자의 데이터를 연도별로 정리"
   ]
  },
  {
   "cell_type": "code",
   "execution_count": 23,
   "metadata": {},
   "outputs": [],
   "source": [
    "taja_seonsu_hts.fillna('0', inplace = True)\n",
    "taja_seonsu_hts = taja_seonsu_hts.drop_duplicates(['NAME', 'GYEAR'], keep = 'first')\n",
    "taja_seonsu_hts = taja_seonsu_hts.sort_values(['PCODE','GYEAR'], ascending=False)\n",
    "taja_seonsu_hts = taja_seonsu_hts.reset_index(drop=True)"
   ]
  },
  {
   "cell_type": "markdown",
   "metadata": {},
   "source": [
    "## 기존의 KBO 배럴 타구와 타겟변수 사이의 상관계수"
   ]
  },
  {
   "cell_type": "code",
   "execution_count": 24,
   "metadata": {},
   "outputs": [
    {
     "data": {
      "text/plain": [
       "(0.7124223041800712, 1.4239244654710009e-87)"
      ]
     },
     "execution_count": 24,
     "metadata": {},
     "output_type": "execute_result"
    },
    {
     "data": {
      "image/png": "[encoded data removed]",
      "text/plain": [
       "<Figure size 432x288 with 1 Axes>"
      ]
     },
     "metadata": {
      "needs_background": "light"
     },
     "output_type": "display_data"
    }
   ],
   "source": [
    "# 기존의 KBO 배럴 타구와 장타율 사이의 상관계수는 0.712임\n",
    "# 이는 본팀이 새롭게 정의한 홈런성 배럴 타구와 장타율 사이의 상관계수보다 낮음\n",
    "plt.scatter(taja_seonsu_hts['SLG'], taja_seonsu_hts['BARREL_KBO_CNT'])\n",
    "scipy.stats.pearsonr(taja_seonsu_hts['SLG'], taja_seonsu_hts['BARREL_KBO_CNT'])"
   ]
  },
  {
   "cell_type": "code",
   "execution_count": 25,
   "metadata": {},
   "outputs": [
    {
     "data": {
      "text/plain": [
       "(0.39150519414017637, 6.989822203495665e-22)"
      ]
     },
     "execution_count": 25,
     "metadata": {},
     "output_type": "execute_result"
    },
    {
     "data": {
      "image/png": "[encoded data removed]",
      "text/plain": [
       "<Figure size 432x288 with 1 Axes>"
      ]
     },
     "metadata": {
      "needs_background": "light"
     },
     "output_type": "display_data"
    }
   ],
   "source": [
    "# 기존의 KBO 배럴 타구와 출루율 사이의 상관계수는 0.392임\n",
    "# 이는 본팀이 새롭게 정의한 안타성 배럴 타구와 출루율 사이의 상관계수보다 낮음\n",
    "plt.scatter(taja_seonsu_hts['OBP'], taja_seonsu_hts['BARREL_KBO_CNT'])\n",
    "scipy.stats.pearsonr(taja_seonsu_hts['OBP'], taja_seonsu_hts['BARREL_KBO_CNT'])"
   ]
  },
  {
   "cell_type": "markdown",
   "metadata": {},
   "source": [
    "## 2019년 박병호, 로맥, 최정의 홈런 수와 기존의 KBO 기준 배럴 타구 수"
   ]
  },
  {
   "cell_type": "code",
   "execution_count": 26,
   "metadata": {},
   "outputs": [
    {
     "data": {
      "text/html": [
       "<div>\n",
       "<style scoped>\n",
       "    .dataframe tbody tr th:only-of-type {\n",
       "        vertical-align: middle;\n",
       "    }\n",
       "\n",
       "    .dataframe tbody tr th {\n",
       "        vertical-align: top;\n",
       "    }\n",
       "\n",
       "    .dataframe thead th {\n",
       "        text-align: right;\n",
       "    }\n",
       "</style>\n",
       "<table border=\"1\" class=\"dataframe\">\n",
       "  <thead>\n",
       "    <tr style=\"text-align: right;\">\n",
       "      <th></th>\n",
       "      <th>GYEAR</th>\n",
       "      <th>NAME</th>\n",
       "      <th>HR</th>\n",
       "      <th>BARREL_KBO_CNT</th>\n",
       "    </tr>\n",
       "  </thead>\n",
       "  <tbody>\n",
       "    <tr>\n",
       "      <th>145</th>\n",
       "      <td>2019</td>\n",
       "      <td>최정</td>\n",
       "      <td>29.0</td>\n",
       "      <td>14.0</td>\n",
       "    </tr>\n",
       "    <tr>\n",
       "      <th>164</th>\n",
       "      <td>2019</td>\n",
       "      <td>박병호</td>\n",
       "      <td>33.0</td>\n",
       "      <td>29.0</td>\n",
       "    </tr>\n",
       "    <tr>\n",
       "      <th>285</th>\n",
       "      <td>2019</td>\n",
       "      <td>로맥</td>\n",
       "      <td>29.0</td>\n",
       "      <td>23.0</td>\n",
       "    </tr>\n",
       "  </tbody>\n",
       "</table>\n",
       "</div>"
      ],
      "text/plain": [
       "     GYEAR NAME    HR  BARREL_KBO_CNT\n",
       "145   2019   최정  29.0            14.0\n",
       "164   2019  박병호  33.0            29.0\n",
       "285   2019   로맥  29.0            23.0"
      ]
     },
     "execution_count": 26,
     "metadata": {},
     "output_type": "execute_result"
    }
   ],
   "source": [
    "# 박병호, 로맥, 최정은 홈런 개수 기준 상위 3명의 선수임\n",
    "taja_seonsu_hts[(taja_seonsu_hts['NAME'].isin(['박병호', '로맥', '최정'])) & (taja_seonsu_hts['GYEAR']==2019)].loc[:,['GYEAR','NAME','HR','BARREL_KBO_CNT']]"
   ]
  }
 ],
 "metadata": {
  "kernelspec": {
   "display_name": "Python 3",
   "language": "python",
   "name": "python3"
  },
  "language_info": {
   "codemirror_mode": {
    "name": "ipython",
    "version": 3
   },
   "file_extension": ".py",
   "mimetype": "text/x-python",
   "name": "python",
   "nbconvert_exporter": "python",
   "pygments_lexer": "ipython3",
   "version": "3.8.8"
  }
 },
 "nbformat": 4,
 "nbformat_minor": 4
}
